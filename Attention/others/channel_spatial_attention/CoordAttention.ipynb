{
 "cells": [
  {
   "cell_type": "code",
   "execution_count": 1,
   "metadata": {},
   "outputs": [],
   "source": [
    "import torch\n",
    "import torch.nn as nn\n",
    "import math\n",
    "import torch.nn.functional as F "
   ]
  },
  {
   "cell_type": "code",
   "execution_count": 2,
   "metadata": {},
   "outputs": [],
   "source": [
    "\"\"\" \n",
    "h_sigmoid 类是超饱和 sigmoid 激活函数的自定义实现，\n",
    "这是一种将输出限制在特定范围内的 sigmoid 变体。\n",
    "这个类使用 ReLU6 激活函数来实现这种限制。\n",
    "ReLU6 函数的输出被限制在 [-6, 6] 的范围内，\n",
    "这可以看作是 sigmoid 函数的一种改进，因为它可以提供更好的数值稳定性。\n",
    "\"\"\"\n",
    "class h_sigmoid(nn.Module):\n",
    "    def __init__(self, inplace=True) -> None:\n",
    "        super().__init__()\n",
    "        self.relu = nn.ReLU6(inplace=inplace)\n",
    "    def forward(self, x):\n",
    "        return self.relu(x + 3) / 6"
   ]
  },
  {
   "cell_type": "code",
   "execution_count": 3,
   "metadata": {},
   "outputs": [],
   "source": [
    "\"\"\" \n",
    "h_swish 类是 Swish 激活函数的 PyTorch 自定义实现。\n",
    "Swish 激活函数定义为输入与输入的的`双曲正切函数`的乘积。\n",
    "这个实现使用了 h_sigmoid 函数作为一个组件，这是 \n",
    "sigmoid 函数的一个变体，可以用于 inplace 操作以节省内存。\n",
    "\"\"\"\n",
    "class h_swish(nn.Module):\n",
    "    def __init__(self, inplace=True) -> None:\n",
    "        super().__init__()\n",
    "        self.sigmoid = h_sigmoid(inplace=True)\n",
    "    def forward(self, x):\n",
    "        return x * self.sigmoid(x)"
   ]
  },
  {
   "cell_type": "code",
   "execution_count": 8,
   "metadata": {},
   "outputs": [],
   "source": [
    "class CoordAtt(nn.Module):\n",
    "    def __init__(self, inp, oup, reduction=22) -> None:\n",
    "        super().__init__()\n",
    "        self.pool_h = nn.AdaptiveAvgPool2d((None, 1))\n",
    "        self.pool_w = nn.AdaptiveAvgPool2d((1, None))\n",
    "        \n",
    "        mip = max(8, inp // reduction)\n",
    "        \n",
    "        self.conv1 = nn.Conv2d(inp, mip, kernel_size=1, stride=1, padding=0)\n",
    "        self.bn1 = nn.BatchNorm2d(mip)\n",
    "        self.act = h_swish()\n",
    "        \n",
    "        self.conv_h = nn.Conv2d(mip, oup, kernel_size=1, stride=1, padding=0)\n",
    "        self.conv_w = nn.Conv2d(mip, oup, kernel_size=1, stride=1, padding=0)\n",
    "    def forward(self, x):\n",
    "        identity = x\n",
    "        \n",
    "        n, c, h ,w = x.size()\n",
    "        x_h = self.pool_h(x)\n",
    "        x_w = self.pool_w(x).permute(0, 1, 3, 2)\n",
    "        \n",
    "        y = torch.cat([x_h, x_w], dim=2)\n",
    "        y = self.conv1(y)\n",
    "        y = self.bn1(y)\n",
    "        y = self.act(y)\n",
    "        \n",
    "        x_h, x_w = torch.split(y, [h, w], dim=2)\n",
    "        x_w = x_w.permute(0, 1, 3, 2)\n",
    "        \n",
    "        a_h = self.conv_h(x_h).sigmoid()\n",
    "        a_w = self.conv_w(x_w).sigmoid()\n",
    "        \n",
    "        out = identity * a_w * a_h\n",
    "        return out"
   ]
  },
  {
   "cell_type": "code",
   "execution_count": 13,
   "metadata": {},
   "outputs": [],
   "source": [
    "class CoordAtt_block(nn.Module):\n",
    "    def __init__(self, inp, oup, reduction=22) -> None:\n",
    "        super().__init__()\n",
    "        self.pool_h = nn.AdaptiveAvgPool2d((None, 1))\n",
    "        self.pool_w = nn.AdaptiveAvgPool2d((1, None))\n",
    "        \n",
    "        mip = max(8, inp // reduction)\n",
    "        \n",
    "        self.conv1 = nn.Conv2d(inp, mip, kernel_size=1, stride=1, padding=0)\n",
    "        self.bn1 = nn.BatchNorm2d(mip)\n",
    "        self.act = h_swish()\n",
    "        \n",
    "        self.conv_h = nn.Conv2d(mip, oup, kernel_size=1, stride=1, padding=0)\n",
    "        self.conv_w = nn.Conv2d(mip, oup, kernel_size=1, stride=1, padding=0)\n",
    "    def forward(self, x):\n",
    "        identity = x\n",
    "        \n",
    "        n, c, h ,w = x.size()\n",
    "        print(f'x : {x.size()}')\n",
    "        x_h = self.pool_h(x)\n",
    "        print(f'x_h : {x_h.size()}')\n",
    "        x_w = self.pool_w(x).permute(0, 1, 3, 2)\n",
    "        print(f'x_w : {x_w.size()}')\n",
    "        \n",
    "        y = torch.cat([x_h, x_w], dim=2)\n",
    "        print(f'y : {y.size()}')\n",
    "        \n",
    "        y = self.conv1(y)\n",
    "        y = self.bn1(y)\n",
    "        y = self.act(y)\n",
    "        print(f'y_conv1 : {y.size()}')\n",
    "        \n",
    "        x_h, x_w = torch.split(y, [h, w], dim=2)\n",
    "        x_w = x_w.permute(0, 1, 3, 2)\n",
    "        \n",
    "        print(f'x_h : {x_h.size()}')\n",
    "        print(f'x_w : {x_w.size()}')\n",
    "        \n",
    "        a_h = self.conv_h(x_h).sigmoid()\n",
    "        a_w = self.conv_w(x_w).sigmoid()\n",
    "        \n",
    "        print(f'a_h : {a_h.size()}')\n",
    "        print(f'a_w : {a_w.size()}')\n",
    "        \n",
    "        out = identity * a_w * a_h\n",
    "        return out"
   ]
  },
  {
   "cell_type": "code",
   "execution_count": 14,
   "metadata": {},
   "outputs": [
    {
     "name": "stdout",
     "output_type": "stream",
     "text": [
      "x : torch.Size([32, 16, 8, 9])\n",
      "x_h : torch.Size([32, 16, 8, 1])\n",
      "x_w : torch.Size([32, 16, 9, 1])\n",
      "y : torch.Size([32, 16, 17, 1])\n",
      "y_conv1 : torch.Size([32, 8, 17, 1])\n",
      "x_h : torch.Size([32, 8, 8, 1])\n",
      "x_w : torch.Size([32, 8, 1, 9])\n",
      "a_h : torch.Size([32, 16, 8, 1])\n",
      "a_w : torch.Size([32, 16, 1, 9])\n"
     ]
    }
   ],
   "source": [
    "x = torch.randn(32, 16, 8, 9)\n",
    "model = CoordAtt_block(16, 16)\n",
    "y = model(x)"
   ]
  },
  {
   "cell_type": "code",
   "execution_count": 7,
   "metadata": {},
   "outputs": [
    {
     "name": "stdout",
     "output_type": "stream",
     "text": [
      "torch.Size([16, 8, 3, 1])\n",
      "torch.Size([16, 8, 1, 4])\n",
      "torch.Size([16, 8, 1, 1])\n"
     ]
    }
   ],
   "source": [
    "x = torch.randn(16, 8, 3, 4)\n",
    "y_h = nn.AdaptiveAvgPool2d((None, 1))(x)\n",
    "y_w = nn.AdaptiveAvgPool2d((1, None))(x)\n",
    "y_c = nn.AdaptiveAvgPool2d(1)(x)\n",
    "print(f'{y_h.size()}\\n{y_w.size()}\\n{y_c.size()}')"
   ]
  },
  {
   "cell_type": "code",
   "execution_count": null,
   "metadata": {},
   "outputs": [],
   "source": []
  }
 ],
 "metadata": {
  "kernelspec": {
   "display_name": "pytorch_cuda",
   "language": "python",
   "name": "python3"
  },
  "language_info": {
   "codemirror_mode": {
    "name": "ipython",
    "version": 3
   },
   "file_extension": ".py",
   "mimetype": "text/x-python",
   "name": "python",
   "nbconvert_exporter": "python",
   "pygments_lexer": "ipython3",
   "version": "3.10.13"
  }
 },
 "nbformat": 4,
 "nbformat_minor": 2
}
