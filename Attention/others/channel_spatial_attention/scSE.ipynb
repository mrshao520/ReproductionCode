{
 "cells": [
  {
   "cell_type": "code",
   "execution_count": 1,
   "metadata": {},
   "outputs": [],
   "source": [
    "import torch\n",
    "import torch.nn as nn "
   ]
  },
  {
   "cell_type": "code",
   "execution_count": 2,
   "metadata": {},
   "outputs": [],
   "source": [
    "class sSE(nn.Module):\n",
    "    def __init__(self, in_channels) -> None:\n",
    "        super().__init__()\n",
    "        self.Conv1x1 = nn.Conv2d(in_channels=in_channels, out_channels=1, kernel_size=1, bias=False)\n",
    "        self.sigmoid = nn.Sigmoid()\n",
    "    \n",
    "    def forward(self, x):\n",
    "        y = self.Conv1x1(x) # x[bs, c, h, w] -> y[bs, 1, h, w]\n",
    "        y = self.sigmoid(y)\n",
    "        return x * y"
   ]
  },
  {
   "cell_type": "code",
   "execution_count": 3,
   "metadata": {},
   "outputs": [],
   "source": [
    "class cSE(nn.Module):\n",
    "    def __init__(self, in_channels) -> None:\n",
    "        super().__init__()\n",
    "        self.avgpool = nn.AdaptiveAvgPool2d(1)\n",
    "        self.Conv_Squeeze = nn.Conv2d(in_channels, in_channels // 2, kernel_size=1, bias=False)\n",
    "        self.Conv_Excitation = nn.Conv2d(in_channels // 2, in_channels, kernel_size=1, bias=False)\n",
    "        self.sigmoid = nn.Sigmoid()\n",
    "        \n",
    "    def forward(self, x):\n",
    "        y = self.avgpool(x) # [bs, c, h, w] -> [bs, c, 1, 1]\n",
    "        y = self.Conv_Squeeze(x) # [bs, c/2, 1, 1]\n",
    "        y= self.sigmoid(y)\n",
    "        return x * y.expand_as(x)"
   ]
  },
  {
   "cell_type": "code",
   "execution_count": 4,
   "metadata": {},
   "outputs": [],
   "source": [
    "class scSE(nn.Module):\n",
    "    def __init__(self, in_channels) -> None:\n",
    "        super().__init__()\n",
    "        self.cSE = cSE(in_channels)\n",
    "        self.sSE = sSE(in_channels)\n",
    "        \n",
    "    def forward(self, x):\n",
    "        y_sSE = self.sSE(x)\n",
    "        y_cSE = self.cSE(x)\n",
    "        return y_sSE + y_cSE"
   ]
  },
  {
   "cell_type": "code",
   "execution_count": 5,
   "metadata": {},
   "outputs": [
    {
     "name": "stdout",
     "output_type": "stream",
     "text": [
      "in shape: torch.Size([10, 3, 64, 64])\n",
      "out shape: torch.Size([10, 3, 64, 64])\n"
     ]
    }
   ],
   "source": [
    "bs, c, h, w = 10, 3, 64, 64\n",
    "in_tensor = torch.ones(bs, c, h, w)\n",
    "\n",
    "cs_se = scSE(c)\n",
    "print(\"in shape:\",in_tensor.shape)\n",
    "out_tensor = cs_se(in_tensor)\n",
    "print(\"out shape:\", out_tensor.shape)"
   ]
  },
  {
   "cell_type": "code",
   "execution_count": null,
   "metadata": {},
   "outputs": [],
   "source": []
  },
  {
   "cell_type": "code",
   "execution_count": null,
   "metadata": {},
   "outputs": [],
   "source": []
  },
  {
   "cell_type": "code",
   "execution_count": null,
   "metadata": {},
   "outputs": [],
   "source": []
  },
  {
   "cell_type": "code",
   "execution_count": null,
   "metadata": {},
   "outputs": [],
   "source": []
  }
 ],
 "metadata": {
  "kernelspec": {
   "display_name": "pytorch_cuda",
   "language": "python",
   "name": "python3"
  },
  "language_info": {
   "codemirror_mode": {
    "name": "ipython",
    "version": 3
   },
   "file_extension": ".py",
   "mimetype": "text/x-python",
   "name": "python",
   "nbconvert_exporter": "python",
   "pygments_lexer": "ipython3",
   "version": "3.10.13"
  }
 },
 "nbformat": 4,
 "nbformat_minor": 2
}
