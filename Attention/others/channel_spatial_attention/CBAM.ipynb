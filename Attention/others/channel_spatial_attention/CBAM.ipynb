{
 "cells": [
  {
   "cell_type": "code",
   "execution_count": 2,
   "metadata": {},
   "outputs": [],
   "source": [
    "import numpy as np\n",
    "import torch \n",
    "from torch import nn\n",
    "from torch.nn import init"
   ]
  },
  {
   "cell_type": "code",
   "execution_count": 3,
   "metadata": {},
   "outputs": [],
   "source": [
    "class ChannelAttention(nn.Module):\n",
    "    def __init__(self, channel, reduction=16) -> None:\n",
    "        super().__init__()\n",
    "        self.maxpool = nn.AdaptiveMaxPool2d(1)\n",
    "        self.avgpool = nn.AdaptiveAvgPool2d(1)\n",
    "        self.se = nn.Sequential(\n",
    "            nn.Conv2d(channel, channel//reduction, 1, bias=False),\n",
    "            nn.ReLU(inplace=True),\n",
    "            nn.Conv2d(channel // reduction, channel, 1, bias=False)\n",
    "        )\n",
    "        self.sigmoid = nn.Sigmoid()\n",
    "    def forward(self, x):\n",
    "        max_result = self.maxpool(x)\n",
    "        avg_result = self.avgpool(x)\n",
    "        max_out = self.se(max_result)\n",
    "        avg_out = self.se(avg_result)\n",
    "        output = self.sigmoid(max_out + avg_out)\n",
    "        return output"
   ]
  },
  {
   "cell_type": "code",
   "execution_count": 4,
   "metadata": {},
   "outputs": [],
   "source": [
    "class SpatialAttention(nn.Module):\n",
    "    def __init__(self, kernel_size=7) -> None:\n",
    "        super().__init__()\n",
    "        self.conv = nn.Conv2d(2, 1, kernel_size=kernel_size, padding=kernel_size//2)\n",
    "        self.sigmoid = nn.Sigmoid()\n",
    "        \n",
    "    def forward(self, x):\n",
    "        max_result, _ = torch.max(x, dim=1, keepdim=True)\n",
    "        avg_result = torch.mean(x, dim=1, keepdim=True)\n",
    "        result = torch.cat([max_result, avg_result], 1)\n",
    "        output = self.conv(result)\n",
    "        output = self.sigmoid(output)\n",
    "        return output\n",
    "        "
   ]
  },
  {
   "cell_type": "code",
   "execution_count": 12,
   "metadata": {},
   "outputs": [],
   "source": [
    "class CBAMBlock(nn.Module):\n",
    "    def __init__(self, channel=512, reduction=16, kernel_size=49) -> None:\n",
    "        super().__init__()\n",
    "        self.ca = ChannelAttention(channel=channel, reduction=reduction)\n",
    "        self.sa = SpatialAttention(kernel_size=kernel_size)\n",
    "        \n",
    "    def forward(self, x):\n",
    "        b, c, _, _ = x.size()\n",
    "        residual = x \n",
    "        out = x * self.ca(x)\n",
    "        out = out * self.sa(out)\n",
    "        return out + residual"
   ]
  },
  {
   "cell_type": "code",
   "execution_count": 13,
   "metadata": {},
   "outputs": [
    {
     "name": "stdout",
     "output_type": "stream",
     "text": [
      "torch.Size([50, 512, 7, 7])\n"
     ]
    }
   ],
   "source": [
    "input=torch.randn(50,512,7,7)\n",
    "kernel_size=input.shape[2]\n",
    "cbam = CBAMBlock(channel=512,reduction=16,kernel_size=kernel_size)\n",
    "output=cbam(input)\n",
    "print(output.shape)"
   ]
  },
  {
   "cell_type": "code",
   "execution_count": null,
   "metadata": {},
   "outputs": [],
   "source": []
  },
  {
   "cell_type": "code",
   "execution_count": 11,
   "metadata": {},
   "outputs": [
    {
     "name": "stdout",
     "output_type": "stream",
     "text": [
      "torch.Size([16, 1, 8, 8])\n",
      "torch.Size([16, 1, 8, 8])\n"
     ]
    }
   ],
   "source": [
    "x = torch.randn(16, 4, 8, 8)\n",
    "max_res,_ = torch.max(x, dim=1, keepdim=True)\n",
    "avg_result = torch.mean(x, dim=1, keepdim=True)\n",
    "print(max_res.size())\n",
    "print(avg_result.size())"
   ]
  }
 ],
 "metadata": {
  "kernelspec": {
   "display_name": "pytorch_cuda",
   "language": "python",
   "name": "python3"
  },
  "language_info": {
   "codemirror_mode": {
    "name": "ipython",
    "version": 3
   },
   "file_extension": ".py",
   "mimetype": "text/x-python",
   "name": "python",
   "nbconvert_exporter": "python",
   "pygments_lexer": "ipython3",
   "version": "3.10.13"
  }
 },
 "nbformat": 4,
 "nbformat_minor": 2
}
