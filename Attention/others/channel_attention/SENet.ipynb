{
 "cells": [
  {
   "cell_type": "code",
   "execution_count": 1,
   "metadata": {},
   "outputs": [],
   "source": [
    "import torch\n",
    "import torch.nn as nn"
   ]
  },
  {
   "cell_type": "code",
   "execution_count": 8,
   "metadata": {},
   "outputs": [],
   "source": [
    "class SELayer(nn.Module):\n",
    "    def __init__(self, channnel, reduction=16) -> None:\n",
    "        super().__init__()\n",
    "        self.avg_pool = nn.AdaptiveAvgPool2d(1)\n",
    "        self.fc = nn.Sequential(\n",
    "            nn.Linear(channnel, channnel // reduction, bias=False),\n",
    "            nn.ReLU(inplace=True),\n",
    "            nn.Linear(channnel // reduction, channnel, bias=False),\n",
    "            nn.Sigmoid()\n",
    "        )\n",
    "    def forward(self, x):\n",
    "        b, c, _, _ = x.size()\n",
    "        y = self.avg_pool(x).view(b, c)\n",
    "        y = self.fc(y).view(b, c, 1, 1)\n",
    "        return x * y.expand_as(x)"
   ]
  },
  {
   "cell_type": "code",
   "execution_count": 9,
   "metadata": {},
   "outputs": [],
   "source": [
    "class SE_block(nn.Module):\n",
    "    def __init__(self, channnel, reduction=16) -> None:\n",
    "        super().__init__()\n",
    "        self.avg_pool = nn.AdaptiveAvgPool2d(1)\n",
    "        \n",
    "        self.l1 = nn.Linear(channnel, channnel // reduction, bias=False)\n",
    "        self.act = nn.ReLU(inplace=True)\n",
    "        self.l2 = nn.Linear(channnel // reduction, channnel, bias=False)\n",
    "        self.sigmoid = nn.Sigmoid()\n",
    "        \n",
    "    def forward(self, x):\n",
    "        b, c, _, _ = x.size()\n",
    "        y = self.avg_pool(x)\n",
    "        print(f'avg_pool shape : {y.shape}')\n",
    "        y = y.view(b, c)\n",
    "        print(f'view shape : {y.shape}')\n",
    "        y = self.act(self.l1(y))\n",
    "        print(f'l1 shape : {y.shape}')\n",
    "        y = self.l2(y)\n",
    "        print(f'l2 shape : {y.shape}')\n",
    "        y = self.sigmoid(y)\n",
    "        y = y.view(b, c, 1, 1)\n",
    "        print(f'view shape : {y.shape}')\n",
    "        return x * y.expand_as(x)"
   ]
  },
  {
   "cell_type": "code",
   "execution_count": 10,
   "metadata": {},
   "outputs": [
    {
     "name": "stdout",
     "output_type": "stream",
     "text": [
      "avg_pool shape : torch.Size([2, 10, 1, 1])\n",
      "view shape : torch.Size([2, 10])\n",
      "l1 shape : torch.Size([2, 5])\n",
      "l2 shape : torch.Size([2, 10])\n",
      "view shape : torch.Size([2, 10, 1, 1])\n",
      "y shape : torch.Size([2, 10, 4, 4])\n"
     ]
    }
   ],
   "source": [
    "x = torch.randn((2, 10, 4, 4))\n",
    "model = SE_block(10, 2)\n",
    "y = model(x)\n",
    "print(f'y shape : {y.shape}')"
   ]
  },
  {
   "cell_type": "code",
   "execution_count": null,
   "metadata": {},
   "outputs": [],
   "source": []
  },
  {
   "cell_type": "code",
   "execution_count": null,
   "metadata": {},
   "outputs": [],
   "source": []
  },
  {
   "cell_type": "code",
   "execution_count": null,
   "metadata": {},
   "outputs": [],
   "source": []
  }
 ],
 "metadata": {
  "kernelspec": {
   "display_name": "pytorch_cuda",
   "language": "python",
   "name": "python3"
  },
  "language_info": {
   "codemirror_mode": {
    "name": "ipython",
    "version": 3
   },
   "file_extension": ".py",
   "mimetype": "text/x-python",
   "name": "python",
   "nbconvert_exporter": "python",
   "pygments_lexer": "ipython3",
   "version": "3.10.13"
  }
 },
 "nbformat": 4,
 "nbformat_minor": 2
}
