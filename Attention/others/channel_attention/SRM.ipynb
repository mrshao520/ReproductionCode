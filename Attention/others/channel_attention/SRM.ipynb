{
 "cells": [
  {
   "cell_type": "code",
   "execution_count": 1,
   "metadata": {},
   "outputs": [],
   "source": [
    "import torch\n",
    "import torch.nn as nn"
   ]
  },
  {
   "cell_type": "code",
   "execution_count": 38,
   "metadata": {},
   "outputs": [],
   "source": [
    "class SRMLayer(nn.Module):\n",
    "    def __init__(self, channel) -> None:\n",
    "        super().__init__()\n",
    "        # CFC: channel-wise fully connect layer\n",
    "        self.cfc = nn.Conv1d(channel, channel, kernel_size=2, bias=False, groups=channel)\n",
    "        self.bn = nn.BatchNorm1d(channel)\n",
    "        self.sigmoid = nn.Sigmoid()\n",
    "    def forward(self, x):\n",
    "        b, c, _, _ = x.size()\n",
    "        \n",
    "        # style pooling\n",
    "        # AvgPool(全局平均池化)\n",
    "        mean = x.view(b, c, -1).mean(-1).unsqueeze(-1)\n",
    "        # stdPool(全局标准池化)\n",
    "        std = x.view(b, c, -1).std(-1).unsqueeze(-1)\n",
    "        u = torch.cat((mean, std), -1) # (b, c, 2)\n",
    "        \n",
    "        # style itegration\n",
    "        # CFC (全连接层)\n",
    "        z = self.cfc(u) # (b, c, 1)\n",
    "        # BN (归一化)\n",
    "        z = self.bn(z)\n",
    "        # Sigmoid\n",
    "        g = self.sigmoid(z)\n",
    "        \n",
    "        g = g.view(b, c, 1, 1)\n",
    "        return x * g.expand_as(x)\n",
    "        \n",
    "        "
   ]
  },
  {
   "cell_type": "code",
   "execution_count": 39,
   "metadata": {},
   "outputs": [],
   "source": [
    "class SRM_block(nn.Module):\n",
    "    def __init__(self, channel) -> None:\n",
    "        super().__init__()\n",
    "        # CFC: channel-wise fully connect layer\n",
    "        self.cfc = nn.Conv1d(channel, channel, kernel_size=2, bias=False, groups=channel) # 一维卷积\n",
    "        self.bn = nn.BatchNorm1d(channel)\n",
    "        self.sigmoid = nn.Sigmoid()\n",
    "    def forward(self, x):\n",
    "        b, c, _, _ = x.size()\n",
    "        # x = [2, 10, 4, 4]\n",
    "        \n",
    "        # style pooling\n",
    "        # AvgPool(全局平均池化)\n",
    "        # x.view(b, c, -1)                          [2, 10, 16]\n",
    "        # x.view(b, c, -1).mean(-1)                 [2, 10]\n",
    "        # x.view(b, c, -1).mean(-1).unsqueeze(-1)   [2, 10, 1]\n",
    "        mean = x.view(b, c, -1).mean(-1).unsqueeze(-1)\n",
    "        print(f'mean : {mean.shape}') \n",
    "        # stdPool(全局标准池化)\n",
    "        std = x.view(b, c, -1).std(-1).unsqueeze(-1)\n",
    "        u = torch.cat((mean, std), -1) # (b, c, 2)\n",
    "        print(f'u : {u.shape}') # [2, 10, 2]\n",
    "        \n",
    "        # style itegration\n",
    "        # CFC (全连接层)\n",
    "        z = self.cfc(u) # (b, c, 1)\n",
    "        print(f'z : {z.shape}')\n",
    "        # BN (归一化)\n",
    "        z = self.bn(z)\n",
    "        # Sigmoid\n",
    "        g = self.sigmoid(z)\n",
    "        \n",
    "        g = g.view(b, c, 1, 1)\n",
    "        return x * g.expand_as(x)\n",
    "        "
   ]
  },
  {
   "cell_type": "code",
   "execution_count": 40,
   "metadata": {},
   "outputs": [
    {
     "name": "stdout",
     "output_type": "stream",
     "text": [
      "mean : torch.Size([2, 10, 1])\n",
      "u : torch.Size([2, 10, 2])\n",
      "z : torch.Size([2, 10, 1])\n",
      "y shape : torch.Size([2, 10, 4, 4])\n"
     ]
    }
   ],
   "source": [
    "x = torch.randn((2, 10, 4, 4))\n",
    "model = SRM_block(10)\n",
    "y = model(x)\n",
    "print(f'y shape : {y.shape}')"
   ]
  }
 ],
 "metadata": {
  "kernelspec": {
   "display_name": "pytorch_cuda",
   "language": "python",
   "name": "python3"
  },
  "language_info": {
   "codemirror_mode": {
    "name": "ipython",
    "version": 3
   },
   "file_extension": ".py",
   "mimetype": "text/x-python",
   "name": "python",
   "nbconvert_exporter": "python",
   "pygments_lexer": "ipython3",
   "version": "3.10.13"
  }
 },
 "nbformat": 4,
 "nbformat_minor": 2
}
