{
 "cells": [
  {
   "cell_type": "code",
   "execution_count": 1,
   "metadata": {},
   "outputs": [],
   "source": [
    "import torch\n",
    "from torch import nn\n",
    "from torch.nn.parameter import Parameter"
   ]
  },
  {
   "cell_type": "code",
   "execution_count": 2,
   "metadata": {},
   "outputs": [],
   "source": [
    "class eca_layer(nn.Module):\n",
    "    \"\"\"Constructs a ECA module.\n",
    "\n",
    "    Args:\n",
    "        channel: Number of channels of the input feature map\n",
    "        k_size: Adaptive selection of kernel size\n",
    "    \"\"\"\n",
    "    def __init__(self, channel, k_size = 3) -> None:\n",
    "        super().__init__()\n",
    "        self.avg_pool = nn.AdaptiveMaxPool2d(1)\n",
    "        self.conv = nn.Conv1d(1, 1, kernel_size=k_size, padding=(k_size - 1)//2, bias=False)\n",
    "        self.sigmoid = nn.Sigmoid()\n",
    "        \n",
    "    def forward(self, x):\n",
    "        # 全局空间信息的特征描述符\n",
    "        # feature descriptor on the global spatial information\n",
    "        y = self.avg_pool(x)\n",
    "        # two different branches of ECA module\n",
    "        y = self.conv(y.squeeze(-1).transpose(-1, -2)).transpose(-1, -2).unsqueeze(-1)\n",
    "        \n",
    "        # multi scale information fusion\n",
    "        y = self.sigmoid(y)\n",
    "        \n",
    "        return x * y.expand_as(x)"
   ]
  },
  {
   "cell_type": "code",
   "execution_count": 14,
   "metadata": {},
   "outputs": [],
   "source": [
    "class eca_block(nn.Module):\n",
    "    \"\"\"Constructs a ECA module.\n",
    "\n",
    "    Args:\n",
    "        channel: Number of channels of the input feature map\n",
    "        k_size: Adaptive selection of kernel size\n",
    "    \"\"\"\n",
    "    def __init__(self, channel, k_size = 3) -> None:\n",
    "        super().__init__()\n",
    "        self.avg_pool = nn.AdaptiveMaxPool2d(1)\n",
    "        self.conv = nn.Conv1d(1, 1, kernel_size=k_size, padding=(k_size - 1)//2, bias=False)\n",
    "        self.sigmoid = nn.Sigmoid()\n",
    "        \n",
    "    def forward(self, x):\n",
    "        # 全局空间信息的特征描述符\n",
    "        # feature descriptor on the global spatial information\n",
    "        print(f'x:{x.size()}')\n",
    "        y = self.avg_pool(x)\n",
    "        print(f'y:{y.size()} ')\n",
    "        # two different branches of ECA module\n",
    "        print(f'y.squeeze:{y.squeeze(-1).size()} ')\n",
    "        print(f'y.transpose:{y.squeeze(-1).transpose(-1, -2).size()} ')\n",
    "        y = self.conv(y.squeeze(-1).transpose(-1, -2)).transpose(-1, -2).unsqueeze(-1)\n",
    "        \n",
    "        print(f'y_conv:{y.size()}')\n",
    "        \n",
    "        # multi scale information fusion\n",
    "        y = self.sigmoid(y)\n",
    "        \n",
    "        return x * y.expand_as(x)"
   ]
  },
  {
   "cell_type": "code",
   "execution_count": 15,
   "metadata": {},
   "outputs": [
    {
     "name": "stdout",
     "output_type": "stream",
     "text": [
      "x:torch.Size([1, 2, 3, 4])\n",
      "y:torch.Size([1, 2, 1, 1]) \n",
      "y.squeeze:torch.Size([1, 2, 1]) \n",
      "y.transpose:torch.Size([1, 1, 2]) \n",
      "y_conv:torch.Size([1, 2, 1, 1])\n"
     ]
    }
   ],
   "source": [
    "x = torch.randn(1, 2, 3, 4)\n",
    "mod = eca_block(2)\n",
    "y = mod(x)"
   ]
  },
  {
   "cell_type": "code",
   "execution_count": null,
   "metadata": {},
   "outputs": [],
   "source": []
  },
  {
   "cell_type": "code",
   "execution_count": 5,
   "metadata": {},
   "outputs": [],
   "source": [
    "def mean_channels(F):\n",
    "    assert(F.dim() == 4)\n",
    "    spatial_sum = F.sum(3, keepdim=True).sum(2, keepdim=True)\n",
    "    return spatial_sum / (F.size(2) * F.size(3))\n",
    "\n",
    "def stdv_channels(F):\n",
    "    assert (F.dim() == 4)\n",
    "    F_mean = mean_channels(F)\n",
    "    F_variance = (F - F_mean).pow(2).sum(3, keepdim=True).sum(2, keepdim=True) / (F.size(2) * F.size(3))\n",
    "    return F_variance.pow(0.5)"
   ]
  },
  {
   "cell_type": "code",
   "execution_count": 6,
   "metadata": {},
   "outputs": [],
   "source": [
    "class test(nn.Module):\n",
    "    def __init__(self, channel, reduction=16) -> None:\n",
    "        super().__init__()\n",
    "        \n",
    "        self.contrast = stdv_channels\n",
    "        self.avg_pool = nn.AdaptiveAvgPool2d(1)\n",
    "        \n",
    "        self.s1  = nn.Sequential(\n",
    "            nn.Conv2d(channel, channel , (2, 1), padding=0, bias=False),\n",
    "            nn.ReLU(inplace=True),\n",
    "        )\n",
    "        \n",
    "        self.s2 =  nn.Sequential(\n",
    "            nn.Conv2d(channel , channel, 1, padding=0, bias=True),\n",
    "            nn.Sigmoid()\n",
    "        )\n",
    "\n",
    "    def forward(self, x):\n",
    "        y = torch.cat([self.contrast(x), self.avg_pool(x)], dim = 2)\n",
    "        print(f'y:{y.size()}\\n{y}')\n",
    "        y = self.s1(y)\n",
    "        print(f'y1:{y.size()}\\n{y}')\n",
    "        y = self.s2(y)\n",
    "        print(f'y2:{y.size()}\\n{y}')\n"
   ]
  },
  {
   "cell_type": "code",
   "execution_count": 7,
   "metadata": {},
   "outputs": [
    {
     "name": "stdout",
     "output_type": "stream",
     "text": [
      "y:torch.Size([1, 4, 2, 1])\n",
      "tensor([[[[0.2838],\n",
      "          [0.5030]],\n",
      "\n",
      "         [[0.2913],\n",
      "          [0.4834]],\n",
      "\n",
      "         [[0.2959],\n",
      "          [0.4989]],\n",
      "\n",
      "         [[0.2783],\n",
      "          [0.5059]]]])\n",
      "y1:torch.Size([1, 4, 1, 1])\n",
      "tensor([[[[0.]],\n",
      "\n",
      "         [[0.]],\n",
      "\n",
      "         [[0.]],\n",
      "\n",
      "         [[0.]]]], grad_fn=<ReluBackward0>)\n",
      "y2:torch.Size([1, 4, 1, 1])\n",
      "tensor([[[[0.4952]],\n",
      "\n",
      "         [[0.5008]],\n",
      "\n",
      "         [[0.5179]],\n",
      "\n",
      "         [[0.5080]]]], grad_fn=<SigmoidBackward0>)\n"
     ]
    }
   ],
   "source": [
    "mode = test(4)\n",
    "x = torch.rand(1, 4, 16, 16)\n",
    "#print(f'x:{x}')\n",
    "mode(x)"
   ]
  },
  {
   "cell_type": "code",
   "execution_count": 8,
   "metadata": {},
   "outputs": [],
   "source": [
    "class CCALayer(nn.Module):\n",
    "    def __init__(self, channel, reduction=16):\n",
    "        super(CCALayer, self).__init__()\n",
    "\n",
    "        self.contrast = stdv_channels\n",
    "        self.avg_pool = nn.AdaptiveAvgPool2d(1)\n",
    "        self.s1  = nn.Sequential(\n",
    "            nn.Conv2d(channel, channel , 1, padding=0, bias=False),\n",
    "            nn.ReLU(inplace=True),\n",
    "        )\n",
    "        \n",
    "        self.s2 =  nn.Sequential(\n",
    "            nn.Conv2d(channel , channel, 1, padding=0, bias=True),\n",
    "            nn.Sigmoid()\n",
    "        )\n",
    "\n",
    "    def forward(self, x):\n",
    "        y = self.contrast(x) + self.avg_pool(x)\n",
    "        print(f'y:{y.size()}\\n{y}')\n",
    "        y = self.s1(y)\n",
    "        print(f'y1:{y.size()}\\n{y}')\n",
    "        y = self.s2(y)\n",
    "        print(f'y2:{y.size()}\\n{y}')\n",
    "        return x * y"
   ]
  },
  {
   "cell_type": "code",
   "execution_count": 9,
   "metadata": {},
   "outputs": [
    {
     "name": "stdout",
     "output_type": "stream",
     "text": [
      "y:torch.Size([1, 4, 1, 1])\n",
      "tensor([[[[0.8061]],\n",
      "\n",
      "         [[0.7731]],\n",
      "\n",
      "         [[0.8092]],\n",
      "\n",
      "         [[0.7989]]]])\n",
      "y1:torch.Size([1, 4, 1, 1])\n",
      "tensor([[[[0.1048]],\n",
      "\n",
      "         [[0.2161]],\n",
      "\n",
      "         [[0.1172]],\n",
      "\n",
      "         [[0.0951]]]], grad_fn=<ReluBackward0>)\n",
      "y2:torch.Size([1, 4, 1, 1])\n",
      "tensor([[[[0.4933]],\n",
      "\n",
      "         [[0.5317]],\n",
      "\n",
      "         [[0.5302]],\n",
      "\n",
      "         [[0.4120]]]], grad_fn=<SigmoidBackward0>)\n"
     ]
    }
   ],
   "source": [
    "mode = CCALayer(4)\n",
    "x = torch.rand(1, 4, 16, 16)\n",
    "# print(f'x:{x}')\n",
    "y = mode(x)\n",
    "# print(1)"
   ]
  },
  {
   "cell_type": "code",
   "execution_count": null,
   "metadata": {},
   "outputs": [],
   "source": []
  },
  {
   "cell_type": "code",
   "execution_count": null,
   "metadata": {},
   "outputs": [],
   "source": []
  },
  {
   "cell_type": "code",
   "execution_count": null,
   "metadata": {},
   "outputs": [],
   "source": []
  }
 ],
 "metadata": {
  "kernelspec": {
   "display_name": "pytorch_cuda",
   "language": "python",
   "name": "python3"
  },
  "language_info": {
   "codemirror_mode": {
    "name": "ipython",
    "version": 3
   },
   "file_extension": ".py",
   "mimetype": "text/x-python",
   "name": "python",
   "nbconvert_exporter": "python",
   "pygments_lexer": "ipython3",
   "version": "3.10.13"
  }
 },
 "nbformat": 4,
 "nbformat_minor": 2
}
