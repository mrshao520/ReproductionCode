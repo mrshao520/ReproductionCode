{
 "cells": [
  {
   "cell_type": "code",
   "execution_count": 1,
   "metadata": {},
   "outputs": [],
   "source": [
    "import torch\n",
    "import torch.nn as nn\n",
    "import math\n",
    "import torch.nn.functional as F "
   ]
  },
  {
   "cell_type": "code",
   "execution_count": 2,
   "metadata": {},
   "outputs": [],
   "source": [
    "def default_conv(in_channels, out_channels, kernel_size, stride=1, padding=None, bias=True, groups=1):\n",
    "    if not padding and stride == 1:\n",
    "        padding = kernel_size // 2\n",
    "    return nn.Conv2d(in_channels, out_channels, kernel_size, stride=stride, \n",
    "                     padding=padding, bias=bias, groups=groups)"
   ]
  },
  {
   "cell_type": "code",
   "execution_count": 3,
   "metadata": {},
   "outputs": [],
   "source": [
    "class ESA(nn.Module):\n",
    "    \"\"\"\n",
    "    ESA: Enhanced spatial attention 增强空间注意力\n",
    "    from Residual Feature Aggregation Network for Image Super-Resolution\n",
    "         CVPR 2020\n",
    "    \"\"\"\n",
    "    def __init__(self, n_feats, conv=default_conv) -> None:\n",
    "        super().__init__()\n",
    "        f = n_feats // 4\n",
    "        self.conv1 = conv(n_feats, f, kernel_size=1)\n",
    "        self.conv_f = conv(f, f, kernel_size=1)\n",
    "        self.conv_max = conv(f, f, kernel_size=3, padding=1)\n",
    "        self.conv2 = conv(f, f, kernel_size=3, stride=2, padding=0)\n",
    "        self.conv3 = conv(f, f, kernel_size=3, padding=1)\n",
    "        self.conv3_ = conv(f, f, kernel_size=3, padding=1)\n",
    "        self.conv4 = conv(f, n_feats, kernel_size=1)\n",
    "        self.sigmoid = nn.Sigmoid()\n",
    "        self.relu = nn.ReLU(inplace=True)\n",
    "        \n",
    "    def forward(self, x, f):\n",
    "        c1_ = (self.conv1(f))\n",
    "                \n",
    "        "
   ]
  },
  {
   "cell_type": "code",
   "execution_count": 17,
   "metadata": {},
   "outputs": [
    {
     "name": "stdout",
     "output_type": "stream",
     "text": [
      "conv1_weight : torch.Size([6, 15, 3, 3])\n"
     ]
    },
    {
     "data": {
      "text/plain": [
       "torch.Size([20, 6, 16, 16])"
      ]
     },
     "execution_count": 17,
     "metadata": {},
     "output_type": "execute_result"
    }
   ],
   "source": [
    "conv1 = nn.Conv2d(30, 6, 3, 1, padding=1, groups=2)\n",
    "x = torch.randn(20, 30, 16, 16)\n",
    "print(f'conv1_weight : {conv1.weight.size()}')\n",
    "conv1(x).size()"
   ]
  },
  {
   "cell_type": "code",
   "execution_count": null,
   "metadata": {},
   "outputs": [],
   "source": []
  },
  {
   "cell_type": "code",
   "execution_count": null,
   "metadata": {},
   "outputs": [],
   "source": []
  }
 ],
 "metadata": {
  "kernelspec": {
   "display_name": "pytorch_cuda",
   "language": "python",
   "name": "python3"
  },
  "language_info": {
   "codemirror_mode": {
    "name": "ipython",
    "version": 3
   },
   "file_extension": ".py",
   "mimetype": "text/x-python",
   "name": "python",
   "nbconvert_exporter": "python",
   "pygments_lexer": "ipython3",
   "version": "3.10.13"
  }
 },
 "nbformat": 4,
 "nbformat_minor": 2
}
