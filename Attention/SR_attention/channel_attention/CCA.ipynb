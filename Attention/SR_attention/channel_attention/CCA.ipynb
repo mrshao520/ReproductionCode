{
 "cells": [
  {
   "cell_type": "code",
   "execution_count": 1,
   "metadata": {},
   "outputs": [],
   "source": [
    "import torch\n",
    "import torch.nn as nn\n",
    "import math\n",
    "import torch.nn.functional as F "
   ]
  },
  {
   "cell_type": "code",
   "execution_count": 3,
   "metadata": {},
   "outputs": [],
   "source": [
    "def mean_channels(F):\n",
    "    assert F.dim() == 4\n",
    "    spatial_sum = F.sum(3, keepdim=True).sum(2, keepdim=True)\n",
    "    return spatial_sum / (F.size(2) * F.size(3))\n",
    "\n",
    "\n",
    "def stdv_channels(F):\n",
    "    assert F.dim() == 4\n",
    "    F_mean = mean_channels(F)\n",
    "    F_variance = (F - F_mean).pow(2).sum(3, keepdim=True).sum(2, keepdim=True) / (F.size(2) * F.size(3))\n",
    "    return F_variance.pow(0.5)"
   ]
  },
  {
   "cell_type": "code",
   "execution_count": null,
   "metadata": {},
   "outputs": [],
   "source": [
    "class CCALayer(nn.Module):\n",
    "    \"\"\"CCA: contrast-aware channel attention 对比感知通道注意层\n",
    "    from IMDN 2019 ACM MM\n",
    "    \"\"\"\n",
    "\n",
    "    def __init__(self, channel, reduction=16) -> None:\n",
    "        super().__init__()\n",
    "\n",
    "        self.contrast = stdv_channels # 标准差\n",
    "        self.avg_pool = nn.AdaptiveAvgPool2d(1)\n",
    "        self.conv_du = nn.Sequential(\n",
    "            nn.Conv2d(channel, channel // reduction, 1, padding=0, bias=True),\n",
    "            nn.ReLU(inplace=True),\n",
    "            nn.Conv2d(channel // reduction, channel, 1, padding=0, bias=True),\n",
    "            nn.Sigmoid(),\n",
    "        )\n",
    "\n",
    "    def forward(self, x):\n",
    "        y = self.contrast(x) + self.avg_pool(x)\n",
    "        y = self.conv_du(y)\n",
    "        return x * y"
   ]
  },
  {
   "cell_type": "code",
   "execution_count": null,
   "metadata": {},
   "outputs": [],
   "source": []
  },
  {
   "cell_type": "code",
   "execution_count": null,
   "metadata": {},
   "outputs": [],
   "source": []
  },
  {
   "cell_type": "code",
   "execution_count": null,
   "metadata": {},
   "outputs": [],
   "source": []
  }
 ],
 "metadata": {
  "kernelspec": {
   "display_name": "pytorch_cuda",
   "language": "python",
   "name": "python3"
  },
  "language_info": {
   "codemirror_mode": {
    "name": "ipython",
    "version": 3
   },
   "file_extension": ".py",
   "mimetype": "text/x-python",
   "name": "python",
   "nbconvert_exporter": "python",
   "pygments_lexer": "ipython3",
   "version": "3.10.13"
  }
 },
 "nbformat": 4,
 "nbformat_minor": 2
}
