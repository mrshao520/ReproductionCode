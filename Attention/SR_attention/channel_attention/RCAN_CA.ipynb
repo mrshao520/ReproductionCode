{
 "cells": [
  {
   "cell_type": "code",
   "execution_count": null,
   "metadata": {},
   "outputs": [],
   "source": [
    "import torch\n",
    "import torch.nn as nn\n",
    "import math\n",
    "import torch.nn.functional as F "
   ]
  },
  {
   "cell_type": "code",
   "execution_count": null,
   "metadata": {},
   "outputs": [],
   "source": [
    "## Channel Attention (CA) Layer\n",
    "class CALayer(nn.Module):\n",
    "    # reduction；降维比例为r=16\n",
    "    def __init__(self, channel, reduction=16):\n",
    "        super(CALayer, self).__init__()\n",
    "        # global average pooling: feature --> point\n",
    "        self.avg_pool = nn.AdaptiveAvgPool2d(1)\n",
    "        # feature channel downscale a undpscale --> channel weight\n",
    "        self.conv_du = nn.Sequential(\n",
    "            # channel // reduction，输出降维，即论文中的1x1xC/r\n",
    "            nn.Conv2d(channel, channel // reduction, 1, padding=0, bias=True),\n",
    "            nn.ReLU(inplace=True),\n",
    "            # channel，输出升维，即论文中的1x1xC\n",
    "            nn.Conv2d(channel // reduction, channel, 1, padding=0, bias=True),\n",
    "            nn.Sigmoid()\n",
    "        )\n",
    "\n",
    "    def forward(self, x):\n",
    "        '''\n",
    "        x就是 HxWxC 通道  y是权重\n",
    "        y权重通过上面方式求出，然后 和x求乘积\n",
    "        使得重要通道权重更大，不重要通道权重减小\n",
    "        '''\n",
    "        y = self.avg_pool(x)\n",
    "        y = self.conv_du(y)\n",
    "        return x * y\n"
   ]
  }
 ],
 "metadata": {
  "language_info": {
   "name": "python"
  }
 },
 "nbformat": 4,
 "nbformat_minor": 2
}
