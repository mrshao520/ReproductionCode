{
 "cells": [
  {
   "cell_type": "code",
   "execution_count": 1,
   "metadata": {},
   "outputs": [],
   "source": [
    "import torch \n",
    "from torch import nn \n",
    "from torchvision.models.vgg import vgg16, VGG16_Weights"
   ]
  },
  {
   "cell_type": "code",
   "execution_count": 3,
   "metadata": {},
   "outputs": [
    {
     "data": {
      "text/plain": [
       "VGG(\n",
       "  (features): Sequential(\n",
       "    (0): Conv2d(3, 64, kernel_size=(3, 3), stride=(1, 1), padding=(1, 1))\n",
       "    (1): ReLU(inplace=True)\n",
       "    (2): Conv2d(64, 64, kernel_size=(3, 3), stride=(1, 1), padding=(1, 1))\n",
       "    (3): ReLU(inplace=True)\n",
       "    (4): MaxPool2d(kernel_size=2, stride=2, padding=0, dilation=1, ceil_mode=False)\n",
       "    (5): Conv2d(64, 128, kernel_size=(3, 3), stride=(1, 1), padding=(1, 1))\n",
       "    (6): ReLU(inplace=True)\n",
       "    (7): Conv2d(128, 128, kernel_size=(3, 3), stride=(1, 1), padding=(1, 1))\n",
       "    (8): ReLU(inplace=True)\n",
       "    (9): MaxPool2d(kernel_size=2, stride=2, padding=0, dilation=1, ceil_mode=False)\n",
       "    (10): Conv2d(128, 256, kernel_size=(3, 3), stride=(1, 1), padding=(1, 1))\n",
       "    (11): ReLU(inplace=True)\n",
       "    (12): Conv2d(256, 256, kernel_size=(3, 3), stride=(1, 1), padding=(1, 1))\n",
       "    (13): ReLU(inplace=True)\n",
       "    (14): Conv2d(256, 256, kernel_size=(3, 3), stride=(1, 1), padding=(1, 1))\n",
       "    (15): ReLU(inplace=True)\n",
       "    (16): MaxPool2d(kernel_size=2, stride=2, padding=0, dilation=1, ceil_mode=False)\n",
       "    (17): Conv2d(256, 512, kernel_size=(3, 3), stride=(1, 1), padding=(1, 1))\n",
       "    (18): ReLU(inplace=True)\n",
       "    (19): Conv2d(512, 512, kernel_size=(3, 3), stride=(1, 1), padding=(1, 1))\n",
       "    (20): ReLU(inplace=True)\n",
       "    (21): Conv2d(512, 512, kernel_size=(3, 3), stride=(1, 1), padding=(1, 1))\n",
       "    (22): ReLU(inplace=True)\n",
       "    (23): MaxPool2d(kernel_size=2, stride=2, padding=0, dilation=1, ceil_mode=False)\n",
       "    (24): Conv2d(512, 512, kernel_size=(3, 3), stride=(1, 1), padding=(1, 1))\n",
       "    (25): ReLU(inplace=True)\n",
       "    (26): Conv2d(512, 512, kernel_size=(3, 3), stride=(1, 1), padding=(1, 1))\n",
       "    (27): ReLU(inplace=True)\n",
       "    (28): Conv2d(512, 512, kernel_size=(3, 3), stride=(1, 1), padding=(1, 1))\n",
       "    (29): ReLU(inplace=True)\n",
       "    (30): MaxPool2d(kernel_size=2, stride=2, padding=0, dilation=1, ceil_mode=False)\n",
       "  )\n",
       "  (avgpool): AdaptiveAvgPool2d(output_size=(7, 7))\n",
       "  (classifier): Sequential(\n",
       "    (0): Linear(in_features=25088, out_features=4096, bias=True)\n",
       "    (1): ReLU(inplace=True)\n",
       "    (2): Dropout(p=0.5, inplace=False)\n",
       "    (3): Linear(in_features=4096, out_features=4096, bias=True)\n",
       "    (4): ReLU(inplace=True)\n",
       "    (5): Dropout(p=0.5, inplace=False)\n",
       "    (6): Linear(in_features=4096, out_features=1000, bias=True)\n",
       "  )\n",
       ")"
      ]
     },
     "execution_count": 3,
     "metadata": {},
     "output_type": "execute_result"
    }
   ],
   "source": [
    "vgg = vgg16(weights=VGG16_Weights.IMAGENET1K_V1)\n",
    "vgg"
   ]
  },
  {
   "cell_type": "code",
   "execution_count": 5,
   "metadata": {},
   "outputs": [
    {
     "data": {
      "text/plain": [
       "[Conv2d(3, 64, kernel_size=(3, 3), stride=(1, 1), padding=(1, 1)),\n",
       " ReLU(inplace=True),\n",
       " Conv2d(64, 64, kernel_size=(3, 3), stride=(1, 1), padding=(1, 1)),\n",
       " ReLU(inplace=True),\n",
       " MaxPool2d(kernel_size=2, stride=2, padding=0, dilation=1, ceil_mode=False),\n",
       " Conv2d(64, 128, kernel_size=(3, 3), stride=(1, 1), padding=(1, 1)),\n",
       " ReLU(inplace=True),\n",
       " Conv2d(128, 128, kernel_size=(3, 3), stride=(1, 1), padding=(1, 1)),\n",
       " ReLU(inplace=True),\n",
       " MaxPool2d(kernel_size=2, stride=2, padding=0, dilation=1, ceil_mode=False),\n",
       " Conv2d(128, 256, kernel_size=(3, 3), stride=(1, 1), padding=(1, 1)),\n",
       " ReLU(inplace=True),\n",
       " Conv2d(256, 256, kernel_size=(3, 3), stride=(1, 1), padding=(1, 1)),\n",
       " ReLU(inplace=True),\n",
       " Conv2d(256, 256, kernel_size=(3, 3), stride=(1, 1), padding=(1, 1)),\n",
       " ReLU(inplace=True),\n",
       " MaxPool2d(kernel_size=2, stride=2, padding=0, dilation=1, ceil_mode=False),\n",
       " Conv2d(256, 512, kernel_size=(3, 3), stride=(1, 1), padding=(1, 1)),\n",
       " ReLU(inplace=True),\n",
       " Conv2d(512, 512, kernel_size=(3, 3), stride=(1, 1), padding=(1, 1)),\n",
       " ReLU(inplace=True),\n",
       " Conv2d(512, 512, kernel_size=(3, 3), stride=(1, 1), padding=(1, 1)),\n",
       " ReLU(inplace=True),\n",
       " MaxPool2d(kernel_size=2, stride=2, padding=0, dilation=1, ceil_mode=False),\n",
       " Conv2d(512, 512, kernel_size=(3, 3), stride=(1, 1), padding=(1, 1)),\n",
       " ReLU(inplace=True),\n",
       " Conv2d(512, 512, kernel_size=(3, 3), stride=(1, 1), padding=(1, 1)),\n",
       " ReLU(inplace=True),\n",
       " Conv2d(512, 512, kernel_size=(3, 3), stride=(1, 1), padding=(1, 1)),\n",
       " ReLU(inplace=True)]"
      ]
     },
     "execution_count": 5,
     "metadata": {},
     "output_type": "execute_result"
    }
   ],
   "source": [
    "list(vgg.features)[:30]"
   ]
  },
  {
   "cell_type": "code",
   "execution_count": 6,
   "metadata": {},
   "outputs": [],
   "source": [
    "from model import *"
   ]
  },
  {
   "cell_type": "code",
   "execution_count": 10,
   "metadata": {},
   "outputs": [
    {
     "name": "stdout",
     "output_type": "stream",
     "text": [
      "shape : torch.Size([64, 64, 96, 96])\n",
      "shape : torch.Size([64, 64, 96, 96])\n",
      "shape : torch.Size([64, 64, 48, 48])\n",
      "shape : torch.Size([64, 64, 48, 48])\n",
      "shape : torch.Size([64, 64, 48, 48])\n",
      "shape : torch.Size([64, 128, 48, 48])\n",
      "shape : torch.Size([64, 128, 48, 48])\n",
      "shape : torch.Size([64, 128, 48, 48])\n",
      "shape : torch.Size([64, 128, 24, 24])\n",
      "shape : torch.Size([64, 128, 24, 24])\n",
      "shape : torch.Size([64, 128, 24, 24])\n",
      "shape : torch.Size([64, 256, 24, 24])\n",
      "shape : torch.Size([64, 256, 24, 24])\n",
      "shape : torch.Size([64, 256, 24, 24])\n",
      "shape : torch.Size([64, 256, 12, 12])\n",
      "shape : torch.Size([64, 256, 12, 12])\n",
      "shape : torch.Size([64, 256, 12, 12])\n",
      "shape : torch.Size([64, 512, 12, 12])\n",
      "shape : torch.Size([64, 512, 12, 12])\n",
      "shape : torch.Size([64, 512, 12, 12])\n",
      "shape : torch.Size([64, 512, 6, 6])\n",
      "shape : torch.Size([64, 512, 6, 6])\n",
      "shape : torch.Size([64, 512, 6, 6])\n",
      "shape : torch.Size([64, 512, 1, 1])\n",
      "shape : torch.Size([64, 1024, 1, 1])\n",
      "shape : torch.Size([64, 1024, 1, 1])\n",
      "shape : torch.Size([64, 1, 1, 1])\n",
      "shape : torch.Size([64])\n",
      "results : tensor([0.4916, 0.4953, 0.4892, 0.4876, 0.4880, 0.4928, 0.4912, 0.4727, 0.4857,\n",
      "        0.4984, 0.4854, 0.4814, 0.4737, 0.4794, 0.4936, 0.4900, 0.4926, 0.4884,\n",
      "        0.4911, 0.4828, 0.4909, 0.5002, 0.4843, 0.4781, 0.4941, 0.4813, 0.4912,\n",
      "        0.4787, 0.4833, 0.4895, 0.4887, 0.4816, 0.4766, 0.4991, 0.4837, 0.4846,\n",
      "        0.4778, 0.4852, 0.4895, 0.4846, 0.4794, 0.4767, 0.4910, 0.4827, 0.4792,\n",
      "        0.4850, 0.4787, 0.4830, 0.4734, 0.4845, 0.4786, 0.4975, 0.4845, 0.4909,\n",
      "        0.4712, 0.4794, 0.4836, 0.4839, 0.4859, 0.4814, 0.4845, 0.4945, 0.4809,\n",
      "        0.4786], grad_fn=<SigmoidBackward0>)\n"
     ]
    }
   ],
   "source": [
    "netD = Discriminator()\n",
    "\n",
    "x = torch.randn((64, 3, 96, 96))\n",
    "\n",
    "model_children = list(netD.children())\n",
    "results = x\n",
    "for i in range(0, len(model_children)):\n",
    "    if type(model_children[i]) == nn.Sequential:\n",
    "        for j in range(len(model_children[i])):\n",
    "            results = model_children[i][j](results)\n",
    "            print(f'shape : {results.shape}')\n",
    "    \n",
    "print(f'shape : {results.view(-1).shape}')\n",
    "print(f'results : {torch.sigmoid(results.view(64))}')"
   ]
  }
 ],
 "metadata": {
  "kernelspec": {
   "display_name": "pytorch_cuda",
   "language": "python",
   "name": "python3"
  },
  "language_info": {
   "codemirror_mode": {
    "name": "ipython",
    "version": 3
   },
   "file_extension": ".py",
   "mimetype": "text/x-python",
   "name": "python",
   "nbconvert_exporter": "python",
   "pygments_lexer": "ipython3",
   "version": "3.10.13"
  }
 },
 "nbformat": 4,
 "nbformat_minor": 2
}
